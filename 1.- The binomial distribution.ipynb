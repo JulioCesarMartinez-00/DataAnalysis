{
 "cells": [
  {
   "cell_type": "markdown",
   "source": [
    "# The binomial distribution"
   ],
   "metadata": {}
  },
  {
   "cell_type": "markdown",
   "source": [
    "# $$ X_{1,...,n} \\sim Binomial(size,p)$$"
   ],
   "metadata": {}
  },
  {
   "cell_type": "code",
   "execution_count": 8,
   "source": [
    "library(ggplot2)"
   ],
   "outputs": [],
   "metadata": {}
  },
  {
   "cell_type": "code",
   "execution_count": 2,
   "source": [
    "# generate 1 value from a Binom(1,0.5)\n",
    "x1 <- rbinom(1, 1, 0.5)\n",
    "x1"
   ],
   "outputs": [
    {
     "output_type": "display_data",
     "data": {
      "text/html": [
       "1"
      ],
      "text/latex": [
       "1"
      ],
      "text/markdown": [
       "1"
      ],
      "text/plain": [
       "[1] 1"
      ]
     },
     "metadata": {}
    }
   ],
   "metadata": {}
  },
  {
   "cell_type": "code",
   "execution_count": 5,
   "source": [
    "# Generate 100 occurrences of flipping 10 coins, each with 30% probability\n",
    "x2 <- rbinom(100,10,0.3)\n",
    "x2"
   ],
   "outputs": [
    {
     "output_type": "display_data",
     "data": {
      "text/html": [
       "<style>\n",
       ".list-inline {list-style: none; margin:0; padding: 0}\n",
       ".list-inline>li {display: inline-block}\n",
       ".list-inline>li:not(:last-child)::after {content: \"\\00b7\"; padding: 0 .5ex}\n",
       "</style>\n",
       "<ol class=list-inline><li>4</li><li>0</li><li>4</li><li>1</li><li>4</li><li>6</li><li>5</li><li>5</li><li>3</li><li>1</li><li>2</li><li>4</li><li>4</li><li>2</li><li>3</li><li>4</li><li>5</li><li>4</li><li>4</li><li>2</li><li>4</li><li>2</li><li>3</li><li>3</li><li>1</li><li>0</li><li>5</li><li>3</li><li>5</li><li>3</li><li>0</li><li>3</li><li>2</li><li>4</li><li>3</li><li>1</li><li>4</li><li>2</li><li>2</li><li>5</li><li>3</li><li>5</li><li>2</li><li>4</li><li>3</li><li>4</li><li>3</li><li>6</li><li>2</li><li>4</li><li>4</li><li>4</li><li>5</li><li>4</li><li>2</li><li>2</li><li>0</li><li>3</li><li>4</li><li>3</li><li>1</li><li>2</li><li>2</li><li>2</li><li>2</li><li>2</li><li>3</li><li>2</li><li>4</li><li>3</li><li>4</li><li>5</li><li>3</li><li>1</li><li>4</li><li>2</li><li>2</li><li>3</li><li>4</li><li>3</li><li>2</li><li>3</li><li>5</li><li>1</li><li>4</li><li>3</li><li>5</li><li>5</li><li>1</li><li>3</li><li>3</li><li>0</li><li>3</li><li>4</li><li>3</li><li>3</li><li>2</li><li>0</li><li>1</li><li>3</li></ol>\n"
      ],
      "text/latex": [
       "\\begin{enumerate*}\n",
       "\\item 4\n",
       "\\item 0\n",
       "\\item 4\n",
       "\\item 1\n",
       "\\item 4\n",
       "\\item 6\n",
       "\\item 5\n",
       "\\item 5\n",
       "\\item 3\n",
       "\\item 1\n",
       "\\item 2\n",
       "\\item 4\n",
       "\\item 4\n",
       "\\item 2\n",
       "\\item 3\n",
       "\\item 4\n",
       "\\item 5\n",
       "\\item 4\n",
       "\\item 4\n",
       "\\item 2\n",
       "\\item 4\n",
       "\\item 2\n",
       "\\item 3\n",
       "\\item 3\n",
       "\\item 1\n",
       "\\item 0\n",
       "\\item 5\n",
       "\\item 3\n",
       "\\item 5\n",
       "\\item 3\n",
       "\\item 0\n",
       "\\item 3\n",
       "\\item 2\n",
       "\\item 4\n",
       "\\item 3\n",
       "\\item 1\n",
       "\\item 4\n",
       "\\item 2\n",
       "\\item 2\n",
       "\\item 5\n",
       "\\item 3\n",
       "\\item 5\n",
       "\\item 2\n",
       "\\item 4\n",
       "\\item 3\n",
       "\\item 4\n",
       "\\item 3\n",
       "\\item 6\n",
       "\\item 2\n",
       "\\item 4\n",
       "\\item 4\n",
       "\\item 4\n",
       "\\item 5\n",
       "\\item 4\n",
       "\\item 2\n",
       "\\item 2\n",
       "\\item 0\n",
       "\\item 3\n",
       "\\item 4\n",
       "\\item 3\n",
       "\\item 1\n",
       "\\item 2\n",
       "\\item 2\n",
       "\\item 2\n",
       "\\item 2\n",
       "\\item 2\n",
       "\\item 3\n",
       "\\item 2\n",
       "\\item 4\n",
       "\\item 3\n",
       "\\item 4\n",
       "\\item 5\n",
       "\\item 3\n",
       "\\item 1\n",
       "\\item 4\n",
       "\\item 2\n",
       "\\item 2\n",
       "\\item 3\n",
       "\\item 4\n",
       "\\item 3\n",
       "\\item 2\n",
       "\\item 3\n",
       "\\item 5\n",
       "\\item 1\n",
       "\\item 4\n",
       "\\item 3\n",
       "\\item 5\n",
       "\\item 5\n",
       "\\item 1\n",
       "\\item 3\n",
       "\\item 3\n",
       "\\item 0\n",
       "\\item 3\n",
       "\\item 4\n",
       "\\item 3\n",
       "\\item 3\n",
       "\\item 2\n",
       "\\item 0\n",
       "\\item 1\n",
       "\\item 3\n",
       "\\end{enumerate*}\n"
      ],
      "text/markdown": [
       "1. 4\n",
       "2. 0\n",
       "3. 4\n",
       "4. 1\n",
       "5. 4\n",
       "6. 6\n",
       "7. 5\n",
       "8. 5\n",
       "9. 3\n",
       "10. 1\n",
       "11. 2\n",
       "12. 4\n",
       "13. 4\n",
       "14. 2\n",
       "15. 3\n",
       "16. 4\n",
       "17. 5\n",
       "18. 4\n",
       "19. 4\n",
       "20. 2\n",
       "21. 4\n",
       "22. 2\n",
       "23. 3\n",
       "24. 3\n",
       "25. 1\n",
       "26. 0\n",
       "27. 5\n",
       "28. 3\n",
       "29. 5\n",
       "30. 3\n",
       "31. 0\n",
       "32. 3\n",
       "33. 2\n",
       "34. 4\n",
       "35. 3\n",
       "36. 1\n",
       "37. 4\n",
       "38. 2\n",
       "39. 2\n",
       "40. 5\n",
       "41. 3\n",
       "42. 5\n",
       "43. 2\n",
       "44. 4\n",
       "45. 3\n",
       "46. 4\n",
       "47. 3\n",
       "48. 6\n",
       "49. 2\n",
       "50. 4\n",
       "51. 4\n",
       "52. 4\n",
       "53. 5\n",
       "54. 4\n",
       "55. 2\n",
       "56. 2\n",
       "57. 0\n",
       "58. 3\n",
       "59. 4\n",
       "60. 3\n",
       "61. 1\n",
       "62. 2\n",
       "63. 2\n",
       "64. 2\n",
       "65. 2\n",
       "66. 2\n",
       "67. 3\n",
       "68. 2\n",
       "69. 4\n",
       "70. 3\n",
       "71. 4\n",
       "72. 5\n",
       "73. 3\n",
       "74. 1\n",
       "75. 4\n",
       "76. 2\n",
       "77. 2\n",
       "78. 3\n",
       "79. 4\n",
       "80. 3\n",
       "81. 2\n",
       "82. 3\n",
       "83. 5\n",
       "84. 1\n",
       "85. 4\n",
       "86. 3\n",
       "87. 5\n",
       "88. 5\n",
       "89. 1\n",
       "90. 3\n",
       "91. 3\n",
       "92. 0\n",
       "93. 3\n",
       "94. 4\n",
       "95. 3\n",
       "96. 3\n",
       "97. 2\n",
       "98. 0\n",
       "99. 1\n",
       "100. 3\n",
       "\n",
       "\n"
      ],
      "text/plain": [
       "  [1] 4 0 4 1 4 6 5 5 3 1 2 4 4 2 3 4 5 4 4 2 4 2 3 3 1 0 5 3 5 3 0 3 2 4 3 1 4\n",
       " [38] 2 2 5 3 5 2 4 3 4 3 6 2 4 4 4 5 4 2 2 0 3 4 3 1 2 2 2 2 2 3 2 4 3 4 5 3 1\n",
       " [75] 4 2 2 3 4 3 2 3 5 1 4 3 5 5 1 3 3 0 3 4 3 3 2 0 1 3"
      ]
     },
     "metadata": {}
    }
   ],
   "metadata": {}
  },
  {
   "cell_type": "markdown",
   "source": [
    "Finding density with simulation"
   ],
   "metadata": {}
  },
  {
   "cell_type": "code",
   "execution_count": 11,
   "source": [
    "# simulate P(X = 5)\n",
    "flips <- rbinom(1000, 10, 0.5)\n",
    "mean(flips == 5)"
   ],
   "outputs": [
    {
     "output_type": "display_data",
     "data": {
      "text/html": [
       "0.231"
      ],
      "text/latex": [
       "0.231"
      ],
      "text/markdown": [
       "0.231"
      ],
      "text/plain": [
       "[1] 0.231"
      ]
     },
     "metadata": {}
    }
   ],
   "metadata": {}
  },
  {
   "cell_type": "code",
   "execution_count": 5,
   "source": [
    "# theoretical value\n",
    "dbinom(5, 10, 0.5)"
   ],
   "outputs": [
    {
     "output_type": "display_data",
     "data": {
      "text/html": [
       "0.24609375"
      ],
      "text/latex": [
       "0.24609375"
      ],
      "text/markdown": [
       "0.24609375"
      ],
      "text/plain": [
       "[1] 0.2460938"
      ]
     },
     "metadata": {}
    }
   ],
   "metadata": {}
  },
  {
   "cell_type": "code",
   "execution_count": 4,
   "source": [
    "# simulate P(X <= 5)\n",
    "flips <- rbinom(10000, 10, 0.5)\n",
    "mean(flips <= 5)"
   ],
   "outputs": [
    {
     "output_type": "display_data",
     "data": {
      "text/html": [
       "0.6236"
      ],
      "text/latex": [
       "0.6236"
      ],
      "text/markdown": [
       "0.6236"
      ],
      "text/plain": [
       "[1] 0.6236"
      ]
     },
     "metadata": {}
    }
   ],
   "metadata": {}
  },
  {
   "cell_type": "code",
   "execution_count": 3,
   "source": [
    "# theoretical value\n",
    "pbinom(5, 10, 0.5)"
   ],
   "outputs": [
    {
     "output_type": "display_data",
     "data": {
      "text/html": [
       "0.623046875"
      ],
      "text/latex": [
       "0.623046875"
      ],
      "text/markdown": [
       "0.623046875"
      ],
      "text/plain": [
       "[1] 0.6230469"
      ]
     },
     "metadata": {}
    }
   ],
   "metadata": {}
  },
  {
   "cell_type": "code",
   "execution_count": 13,
   "source": [
    "options(repr.plot.width=16, repr.plot.height=8)\n",
    "p1 <- ggplot(data.frame('sim'=flips), aes(sim)) +\n",
    "    geom_bar()\n",
    "p1"
   ],
   "outputs": [
    {
     "output_type": "display_data",
     "data": {
      "image/png": "[encoded data removed]",
      "text/plain": [
       "plot without title"
      ]
     },
     "metadata": {
      "image/png": {
       "width": 960,
       "height": 480
      }
     }
    }
   ],
   "metadata": {}
  },
  {
   "cell_type": "code",
   "execution_count": 34,
   "source": [
    "# P(X <= 4)\n",
    "flips <- rbinom(10000, 10, 0.5)\n",
    "mean(flips <= 4)"
   ],
   "outputs": [
    {
     "output_type": "display_data",
     "data": {
      "text/html": [
       "0.3733"
      ],
      "text/latex": [
       "0.3733"
      ],
      "text/markdown": [
       "0.3733"
      ],
      "text/plain": [
       "[1] 0.3733"
      ]
     },
     "metadata": {}
    }
   ],
   "metadata": {}
  },
  {
   "cell_type": "code",
   "execution_count": 15,
   "source": [
    "# exact solution\n",
    "pbinom(4, 10, 0.5)"
   ],
   "outputs": [
    {
     "output_type": "display_data",
     "data": {
      "text/html": [
       "0.376953125"
      ],
      "text/latex": [
       "0.376953125"
      ],
      "text/markdown": [
       "0.376953125"
      ],
      "text/plain": [
       "[1] 0.3769531"
      ]
     },
     "metadata": {}
    }
   ],
   "metadata": {}
  },
  {
   "cell_type": "markdown",
   "source": [
    "## Expected value"
   ],
   "metadata": {}
  },
  {
   "cell_type": "markdown",
   "source": [
    "- The expected value is the mean of a distribution.\n",
    "- For Binomial distribution the expected value is  \n",
    "$$ E[X] =   np$$\n",
    "- Its variance is\n",
    "$$ Var(X) = np(1-p)"
   ],
   "metadata": {}
  },
  {
   "cell_type": "code",
   "execution_count": 41,
   "source": [
    "# example with a simulation\n",
    "Y = rbinom(10000, 100, 0.2)\n",
    "print(mean(Y))\n",
    "print(var(Y))"
   ],
   "outputs": [
    {
     "output_type": "stream",
     "name": "stdout",
     "text": [
      "[1] 20.0122\n",
      "[1] 16.29148\n"
     ]
    }
   ],
   "metadata": {}
  },
  {
   "cell_type": "code",
   "execution_count": 43,
   "source": [
    "# theoretical value\n",
    "mean = 100*(0.2)\n",
    "mean"
   ],
   "outputs": [
    {
     "output_type": "display_data",
     "data": {
      "text/html": [
       "20"
      ],
      "text/latex": [
       "20"
      ],
      "text/markdown": [
       "20"
      ],
      "text/plain": [
       "[1] 20"
      ]
     },
     "metadata": {}
    }
   ],
   "metadata": {}
  },
  {
   "cell_type": "code",
   "execution_count": 44,
   "source": [
    "# theoretical value\n",
    "var = 100*(0.2)*(1-0.2)\n",
    "var"
   ],
   "outputs": [
    {
     "output_type": "display_data",
     "data": {
      "text/html": [
       "16"
      ],
      "text/latex": [
       "16"
      ],
      "text/markdown": [
       "16"
      ],
      "text/plain": [
       "[1] 16"
      ]
     },
     "metadata": {}
    }
   ],
   "metadata": {}
  },
  {
   "cell_type": "code",
   "execution_count": null,
   "source": [],
   "outputs": [],
   "metadata": {}
  }
 ],
 "metadata": {
  "orig_nbformat": 4,
  "language_info": {
   "name": "R",
   "codemirror_mode": "r",
   "pygments_lexer": "r",
   "mimetype": "text/x-r-source",
   "file_extension": ".r",
   "version": "4.0.4"
  },
  "kernelspec": {
   "name": "ir",
   "display_name": "R",
   "language": "R"
  },
  "interpreter": {
   "hash": "28f429ac0c97e7f29d5b7283f4db1ef689a9fece3c40f414e7912139c5a2bf91"
  }
 },
 "nbformat": 4,
 "nbformat_minor": 2
}